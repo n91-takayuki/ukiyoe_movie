{
 "cells": [
  {
   "cell_type": "code",
   "execution_count": 1,
   "metadata": {},
   "outputs": [],
   "source": [
    "import cv2\n",
    "import glob\n",
    "import os"
   ]
  },
  {
   "cell_type": "code",
   "execution_count": 6,
   "metadata": {},
   "outputs": [],
   "source": [
    "movie_name = 'fish' #動画の名前\n",
    "style_name = 'ukiyoe' #monet #vangogh\n",
    "frame_size = 3  #FHD=0, 4K=1, iphone=2, small=3\n",
    "frame_rate = 30.0  #FPS"
   ]
  },
  {
   "cell_type": "code",
   "execution_count": 10,
   "metadata": {},
   "outputs": [],
   "source": [
    "path = './results/style_' + style_name + '_pretrained/test_latest/images'\n",
    "images = glob.glob(path + '/*fake.png')"
   ]
  },
  {
   "cell_type": "code",
   "execution_count": 11,
   "metadata": {},
   "outputs": [],
   "source": [
    "if frame_size == 0:\n",
    "   #FHD動画\n",
    "   width = 1920\n",
    "   height = 1080\n",
    "elif frame_size ==1:\n",
    "   #4K動画\n",
    "   width = 3840\n",
    "   height = 2160\n",
    "elif frame_size ==2:\n",
    "   #iphone動画\n",
    "   width = 1080\n",
    "   height = 1920\n",
    "else:\n",
    "   #small\n",
    "   width = 640\n",
    "   height = 360"
   ]
  },
  {
   "cell_type": "code",
   "execution_count": 12,
   "metadata": {},
   "outputs": [
    {
     "name": "stdout",
     "output_type": "stream",
     "text": [
      "動画変換中...\n",
      "動画変換完了\n"
     ]
    }
   ],
   "source": [
    "fourcc = cv2.VideoWriter_fourcc('m','p','4','v')\n",
    "video = cv2.VideoWriter(path + '/' + movie_name +'.mp4', fourcc, frame_rate, (width, height))\n",
    "   \n",
    "print(\"動画変換中...\")\n",
    "\n",
    "for i in range(len(images)):\n",
    "    img = cv2.imread(images[i])\n",
    "    img = cv2.resize(img,(width,height))\n",
    "    video.write(img) \n",
    "       \n",
    "video.release()\n",
    "print(\"動画変換完了\")"
   ]
  },
  {
   "cell_type": "code",
   "execution_count": null,
   "metadata": {},
   "outputs": [],
   "source": []
  }
 ],
 "metadata": {
  "kernelspec": {
   "display_name": "Python 3",
   "language": "python",
   "name": "python3"
  },
  "language_info": {
   "codemirror_mode": {
    "name": "ipython",
    "version": 3
   },
   "file_extension": ".py",
   "mimetype": "text/x-python",
   "name": "python",
   "nbconvert_exporter": "python",
   "pygments_lexer": "ipython3",
   "version": "3.7.11"
  }
 },
 "nbformat": 4,
 "nbformat_minor": 4
}
